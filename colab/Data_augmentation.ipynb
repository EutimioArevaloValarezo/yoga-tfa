{
  "nbformat": 4,
  "nbformat_minor": 0,
  "metadata": {
    "colab": {
      "provenance": []
    },
    "kernelspec": {
      "name": "python3",
      "display_name": "Python 3"
    },
    "language_info": {
      "name": "python"
    }
  },
  "cells": [
    {
      "cell_type": "markdown",
      "source": [
        "#DATA AUGMENTATION"
      ],
      "metadata": {
        "id": "40SZFkI1inrw"
      }
    },
    {
      "cell_type": "code",
      "execution_count": null,
      "metadata": {
        "colab": {
          "base_uri": "https://localhost:8080/"
        },
        "id": "8KJYb_qnLrJT",
        "outputId": "010500ae-88a7-4d0c-de55-c96892d88e58"
      },
      "outputs": [
        {
          "output_type": "stream",
          "name": "stdout",
          "text": [
            "Aumentación de datos completa para la carpeta: /content/drive/MyDrive/Dataset-Yoga-2/Trikonasana\n",
            "Aumentación de datos completa para la carpeta: /content/drive/MyDrive/Dataset-Yoga-2/Utkata Konasana\n",
            "Aumentación de datos completa para la carpeta: /content/drive/MyDrive/Dataset-Yoga-2/Virabhadrasana\n",
            "Aumentación de datos completa para la carpeta: /content/drive/MyDrive/Dataset-Yoga-2/Vrikshasana\n"
          ]
        }
      ],
      "source": [
        "from PIL import Image, ImageEnhance, ImageOps\n",
        "import os\n",
        "import random\n",
        "\n",
        "\n",
        "# Ruta de las carpetas con las imágenes\n",
        "folders = [\n",
        "    '/content/drive/MyDrive/Dataset-Yoga-2/Trikonasana',\n",
        "    '/content/drive/MyDrive/Dataset-Yoga-2/Utkata Konasana',\n",
        "    '/content/drive/MyDrive/Dataset-Yoga-2/Virabhadrasana',\n",
        "    '/content/drive/MyDrive/Dataset-Yoga-2/Vrikshasana'\n",
        "]\n",
        "\n",
        "# Número deseado de imágenes por carpeta\n",
        "desired_images = 150\n",
        "\n",
        "# Función para realizar aumentación de datos en una imagen\n",
        "def augment_image(image_path, output_path, folder_name):\n",
        "    try:\n",
        "        img = Image.open(image_path)\n",
        "\n",
        "        # Volteo horizontal aleatorio\n",
        "        if random.random() > 0.5:\n",
        "            img = img.transpose(Image.FLIP_LEFT_RIGHT)\n",
        "\n",
        "        # Cambio aleatorio de contraste\n",
        "        enhancer = ImageEnhance.Contrast(img)\n",
        "        factor = random.uniform(0.8, 1.2)\n",
        "        img = enhancer.enhance(factor)\n",
        "\n",
        "        # Cambio aleatorio de saturación\n",
        "        enhancer = ImageEnhance.Color(img)\n",
        "        factor = random.uniform(0.8, 1.2)\n",
        "        img = enhancer.enhance(factor)\n",
        "\n",
        "        # Ampliación y reducción aleatoria\n",
        "        scale_factor = random.uniform(0.8, 1.2)\n",
        "        new_size = tuple(int(dim * scale_factor) for dim in img.size)\n",
        "        img = img.resize(new_size, resample=Image.BICUBIC)\n",
        "\n",
        "        # Agregar ruido aleatorio\n",
        "        img = ImageOps.posterize(img, random.randint(1, 3))\n",
        "\n",
        "        img.save(output_path)\n",
        "        return True\n",
        "    except Exception as e:\n",
        "        print(f\"Error en la carpeta: {folder_name}, Imagen: {image_path}, Error: {str(e)}\")\n",
        "        return False\n",
        "\n",
        "# Proceso de aumentación para cada carpeta\n",
        "for folder in folders:\n",
        "    folder_name = os.path.basename(folder)\n",
        "    file_list = os.listdir(folder)\n",
        "\n",
        "    # Calcular cuántas imágenes adicionales se necesitan\n",
        "    remaining_images = desired_images - len(file_list)\n",
        "\n",
        "    if remaining_images <= 0:\n",
        "        continue\n",
        "\n",
        "    # Realizar aumentación de datos para alcanzar el número deseado\n",
        "    for i in range(remaining_images):\n",
        "        # Seleccionar una imagen aleatoria de la carpeta\n",
        "        random_image = random.choice(file_list)\n",
        "        input_path = os.path.join(folder, random_image)\n",
        "\n",
        "        # Generar una nueva ruta para la imagen aumentada\n",
        "        output_filename = f'augmented_{i + 1}_{random_image}'\n",
        "        output_path = os.path.join(folder, output_filename)\n",
        "\n",
        "        # Realizar aumentación de datos en la imagen\n",
        "        success = augment_image(input_path, output_path, folder_name)\n",
        "\n",
        "        if not success:\n",
        "            print(f\"Error al procesar la imagen: {input_path}\")\n",
        "\n",
        "    print(f\"Aumentación de datos completa para la carpeta: {folder}\")"
      ]
    }
  ]
}